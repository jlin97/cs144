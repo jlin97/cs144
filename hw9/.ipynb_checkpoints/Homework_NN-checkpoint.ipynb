{
 "cells": [
  {
   "cell_type": "markdown",
   "metadata": {},
   "source": [
    "# UCLA CS161, Homework 9\n"
   ]
  },
  {
   "cell_type": "markdown",
   "metadata": {},
   "source": [
    "## Import Modules\n"
   ]
  },
  {
   "cell_type": "code",
   "execution_count": 1,
   "metadata": {},
   "outputs": [],
   "source": [
    "# Numpy: matrix algebra library\n",
    "import numpy as np\n",
    "\n",
    "# PyTorch: deep learning library\n",
    "import torch\n",
    "import torch.optim as optim\n",
    "import torch.nn as nn\n",
    "import torch.nn.functional as F\n",
    "\n",
    "import torchvision\n",
    "import torchvision.transforms as transforms\n",
    "\n",
    "# matplotlib: visualization library\n",
    "import matplotlib.pyplot as plt\n",
    "\n",
    "%matplotlib inline\n",
    "torch.set_num_threads(2)"
   ]
  },
  {
   "cell_type": "markdown",
   "metadata": {},
   "source": [
    "## Load Dataset"
   ]
  },
  {
   "cell_type": "code",
   "execution_count": 2,
   "metadata": {},
   "outputs": [],
   "source": [
    "# Define a normalization function\n",
    "transform = transforms.Compose(\n",
    "    [transforms.ToTensor(),\n",
    "     transforms.Normalize((0.5, 0.5, 0.5), (0.5, 0.5, 0.5))])\n",
    "\n",
    "# Download MNIST digits dataset\n",
    "trainset = torchvision.datasets.MNIST(root='./data', train=True,\n",
    "                                        download=True, transform=transform)\n",
    "trainloader = torch.utils.data.DataLoader(trainset, batch_size=64,\n",
    "                                          shuffle=True, num_workers=2)\n",
    "\n",
    "# Make test and train set data loaders\n",
    "testset = torchvision.datasets.MNIST(root='./data', train=False,\n",
    "                                       download=True, transform=transform)\n",
    "testloader = torch.utils.data.DataLoader(testset, batch_size=128,\n",
    "                                         shuffle=False, num_workers=2)\n",
    "# we have 10 classes 0 to 9\n",
    "classes = list(range(10))"
   ]
  },
  {
   "cell_type": "markdown",
   "metadata": {},
   "source": [
    "## Visualize Input Images"
   ]
  },
  {
   "cell_type": "code",
   "execution_count": 3,
   "metadata": {},
   "outputs": [
    {
     "data": {
      "text/plain": [
       "(-0.5, 241.5, 121.5, -0.5)"
      ]
     },
     "execution_count": 3,
     "metadata": {},
     "output_type": "execute_result"
    },
    {
     "data": {
      "image/png": "[encoded data removed]",
      "text/plain": [
       "<Figure size 1152x576 with 1 Axes>"
      ]
     },
     "metadata": {},
     "output_type": "display_data"
    }
   ],
   "source": [
    "# functions to show an image\n",
    "def imshow(img):\n",
    "    img = img / 2 + 0.5     # unnormalize\n",
    "    npimg = img.numpy()\n",
    "    plt.imshow(np.transpose(npimg, (1, 2, 0)))\n",
    "\n",
    "\n",
    "# get some random training images\n",
    "dataiter = iter(trainloader)\n",
    "images, labels = dataiter.next()\n",
    "\n",
    "# show images\n",
    "plt.figure(figsize=(16,8))\n",
    "imshow(torchvision.utils.make_grid(images[:32]))\n",
    "plt.axis('off')"
   ]
  },
  {
   "cell_type": "markdown",
   "metadata": {},
   "source": [
    "## Network Definition\n",
    "\n"
   ]
  },
  {
   "cell_type": "code",
   "execution_count": 4,
   "metadata": {},
   "outputs": [],
   "source": [
    "class FCNet(nn.Module):\n",
    "    def __init__(self):\n",
    "        \"\"\"\n",
    "        initialize the network, define the layers\n",
    "        \"\"\"\n",
    "        super(FCNet, self).__init__()\n",
    "        self.fc1 = nn.Linear(1*28*28, 512)\n",
    "        self.fc2 = nn.Linear(512, 128)\n",
    "        self.fc3 = nn.Linear(128, 10)\n",
    "        \n",
    "    def forward(self, x):\n",
    "        \"\"\"\n",
    "        define the forward path computation\n",
    "        \"\"\"\n",
    "        x = x.view(-1, 1*28*28)\n",
    "        x = F.relu(self.fc1(x))\n",
    "        x = F.relu(self.fc2(x))\n",
    "        x = self.fc3(x)\n",
    "        return x\n",
    "\n",
    "net = FCNet()"
   ]
  },
  {
   "cell_type": "markdown",
   "metadata": {},
   "source": [
    "## Define the Loss Function and Optimizer"
   ]
  },
  {
   "cell_type": "code",
   "execution_count": 5,
   "metadata": {},
   "outputs": [],
   "source": [
    "# define the loss function and optomizer \n",
    "criterion = nn.CrossEntropyLoss()\n",
    "optimizer = optim.Adam(net.parameters())\n"
   ]
  },
  {
   "cell_type": "markdown",
   "metadata": {},
   "source": [
    "## Train the Network\n"
   ]
  },
  {
   "cell_type": "code",
   "execution_count": 6,
   "metadata": {},
   "outputs": [
    {
     "name": "stdout",
     "output_type": "stream",
     "text": [
      "[1,     1] loss: 2.309\n",
      "[1,   101] loss: 0.498\n",
      "[1,   201] loss: 0.306\n",
      "[1,   301] loss: 0.231\n",
      "[1,   401] loss: 0.278\n",
      "Finished Training\n"
     ]
    }
   ],
   "source": [
    "# max interations to run, 10^100 is merely a very large value used to disable the functionality.\n",
    "# MAX_ITERS = 10**100\n",
    "MAX_ITERS = 500\n",
    "\n",
    "def train_fcn(max_iter):\n",
    "    iter_cnt = 0\n",
    "    # loop over the dataset multiple times\n",
    "    for epoch in range(2):  \n",
    "        for i, data in enumerate(trainloader, 0):\n",
    "            iter_cnt += 1\n",
    "            if iter_cnt > max_iter:\n",
    "                break\n",
    "            # get the inputs\n",
    "            inputs, labels = data\n",
    "\n",
    "            # zero the parameter gradients\n",
    "            optimizer.zero_grad()\n",
    "\n",
    "            # forward + backward + optimize\n",
    "            outputs = net(inputs)\n",
    "            loss = criterion(outputs, labels)\n",
    "            loss.backward()\n",
    "            optimizer.step()\n",
    "\n",
    "            # print statistics\n",
    "            if i % 100 == 0:    # print every 2000 mini-batches\n",
    "                print('[%d, %5d] loss: %.3f' %\n",
    "                      (epoch + 1, i + 1, loss.item()))\n",
    "                running_loss = 0.0\n",
    "\n",
    "iter_cnt = 0\n",
    "# loop over the dataset multiple times\n",
    "for epoch in range(2):  \n",
    "    for i, data in enumerate(trainloader, 0):\n",
    "        iter_cnt += 1\n",
    "        if iter_cnt > MAX_ITERS:\n",
    "            break\n",
    "        # get the inputs\n",
    "        inputs, labels = data\n",
    "\n",
    "        # zero the parameter gradients\n",
    "        optimizer.zero_grad()\n",
    "\n",
    "        # forward + backward + optimize\n",
    "        outputs = net(inputs)\n",
    "        loss = criterion(outputs, labels)\n",
    "        loss.backward()\n",
    "        optimizer.step()\n",
    "\n",
    "        # print statistics\n",
    "        if i % 100 == 0:    # print every 2000 mini-batches\n",
    "            print('[%d, %5d] loss: %.3f' %\n",
    "                  (epoch + 1, i + 1, loss.item()))\n",
    "            running_loss = 0.0\n",
    "\n",
    "print('Finished Training')"
   ]
  },
  {
   "cell_type": "markdown",
   "metadata": {},
   "source": [
    "## Prediction Examples"
   ]
  },
  {
   "cell_type": "code",
   "execution_count": 7,
   "metadata": {},
   "outputs": [
    {
     "name": "stdout",
     "output_type": "stream",
     "text": [
      "GroundTruth:      7     2     1     0     4     1     4\n",
      "Predicted:        7     2     1     0     4     1     4\n"
     ]
    },
    {
     "data": {
      "image/png": "[encoded data removed]",
      "text/plain": [
       "<Figure size 864x432 with 1 Axes>"
      ]
     },
     "metadata": {},
     "output_type": "display_data"
    }
   ],
   "source": [
    "# get a test data batch\n",
    "dataiter = iter(testloader)\n",
    "images, labels = dataiter.next()\n",
    "\n",
    "# pick the first 7 samples\n",
    "images = images[:7]\n",
    "labels = labels[:7]\n",
    "\n",
    "# print images\n",
    "plt.figure(figsize=(12,6))\n",
    "imshow(torchvision.utils.make_grid(images))\n",
    "plt.axis('off')\n",
    "print('GroundTruth: ', ' '.join('%5s' % classes[labels[j]] for j in range(7)))\n",
    "\n",
    "# make predictions\n",
    "outputs = net(images)\n",
    "_, predicted = torch.max(outputs, 1)\n",
    "\n",
    "print('Predicted:   ', ' '.join('%5s' % classes[predicted[j]]\n",
    "                              for j in range(7)))"
   ]
  },
  {
   "cell_type": "markdown",
   "metadata": {},
   "source": [
    "## Measure the Test Accuracy"
   ]
  },
  {
   "cell_type": "code",
   "execution_count": null,
   "metadata": {},
   "outputs": [
    {
     "name": "stdout",
     "output_type": "stream",
     "text": [
      "[1,     1] loss: 0.292\n",
      "Accuracy of the network on the 10000 test images: 92 %\n",
      "[1,     1] loss: 0.228\n",
      "Accuracy of the network on the 10000 test images: 93 %\n",
      "[1,     1] loss: 0.326\n",
      "Accuracy of the network on the 10000 test images: 94 %\n",
      "[1,     1] loss: 0.182\n",
      "[1,   101] loss: 0.317\n",
      "Accuracy of the network on the 10000 test images: 95 %\n",
      "[1,     1] loss: 0.208\n",
      "[1,   101] loss: 0.063\n",
      "[1,   201] loss: 0.091\n",
      "Accuracy of the network on the 10000 test images: 95 %\n",
      "[1,     1] loss: 0.025\n",
      "[1,   101] loss: 0.154\n",
      "[1,   201] loss: 0.087\n",
      "[1,   301] loss: 0.075\n",
      "Accuracy of the network on the 10000 test images: 95 %\n",
      "[1,     1] loss: 0.068\n",
      "[1,   101] loss: 0.056\n",
      "[1,   201] loss: 0.126\n",
      "[1,   301] loss: 0.134\n",
      "[1,   401] loss: 0.046\n",
      "Accuracy of the network on the 10000 test images: 96 %\n",
      "[1,     1] loss: 0.076\n",
      "[1,   101] loss: 0.053\n",
      "[1,   201] loss: 0.122\n",
      "[1,   301] loss: 0.105\n",
      "[1,   401] loss: 0.076\n",
      "[1,   501] loss: 0.054\n",
      "Accuracy of the network on the 10000 test images: 96 %\n",
      "[1,     1] loss: 0.185\n",
      "[1,   101] loss: 0.023\n",
      "[1,   201] loss: 0.064\n",
      "[1,   301] loss: 0.060\n",
      "[1,   401] loss: 0.148\n",
      "[1,   501] loss: 0.038\n",
      "[1,   601] loss: 0.057\n",
      "Accuracy of the network on the 10000 test images: 97 %\n",
      "[1,     1] loss: 0.048\n",
      "[1,   101] loss: 0.149\n",
      "[1,   201] loss: 0.032\n"
     ]
    }
   ],
   "source": [
    "MAX_ITERS_ARR = [10, 50, 100, 200, 300, 400, 500, 600, 700, 800, 900, 1000]\n",
    "TEST_ACCURACY_RESULTS = []\n",
    "\n",
    "for max_iter in MAX_ITERS_ARR:\n",
    "    train_fcn(max_iter)\n",
    "    correct = 0 # counts the number of correct classifications\n",
    "    total = 0 # counts the total nunber of classifications\n",
    "    with torch.no_grad():\n",
    "        for data in testloader:\n",
    "            images, labels = data\n",
    "            outputs = net(images)\n",
    "            _, predicted = torch.max(outputs.data, 1)\n",
    "            total += labels.size(0)\n",
    "            correct += (predicted == labels).sum().item()\n",
    "\n",
    "    # calculate the average accuracy\n",
    "    print('Accuracy of the network on the %d test images: %d %%' % (total,\n",
    "        100 * correct / total))\n",
    "    TEST_ACCURACY_RESULTS.append(100 * correct / total)"
   ]
  },
  {
   "cell_type": "code",
   "execution_count": 18,
   "metadata": {},
   "outputs": [
    {
     "data": {
      "text/plain": [
       "[97.84,\n",
       " 97.5,\n",
       " 97.78,\n",
       " 97.64,\n",
       " 97.23,\n",
       " 98.09,\n",
       " 97.11,\n",
       " 97.4,\n",
       " 96.9,\n",
       " 97.94,\n",
       " 97.58,\n",
       " 97.86]"
      ]
     },
     "execution_count": 18,
     "metadata": {},
     "output_type": "execute_result"
    }
   ],
   "source": [
    "TEST_ACCURACY_RESULTS."
   ]
  },
  {
   "cell_type": "code",
   "execution_count": 32,
   "metadata": {},
   "outputs": [
    {
     "data": {
      "image/png": "[encoded data removed]",
      "text/plain": [
       "<Figure size 432x288 with 1 Axes>"
      ]
     },
     "metadata": {},
     "output_type": "display_data"
    }
   ],
   "source": [
    "plt.plot(MAX_ITERS_ARR, TEST_ACCURACY_RESULTS, 'ro-')\n",
    "plt.axis([0, 1100, 90, 100])\n",
    "plt.title('Number of max iterations v. achieved accuracy')\n",
    "plt.xlabel('Number of max iterations')\n",
    "plt.ylabel('Achieved accuracy (%)')\n",
    "plt.show()"
   ]
  },
  {
   "cell_type": "code",
   "execution_count": null,
   "metadata": {},
   "outputs": [],
   "source": []
  }
 ],
 "metadata": {
  "kernelspec": {
   "display_name": "Python 3",
   "language": "python",
   "name": "python3"
  },
  "language_info": {
   "codemirror_mode": {
    "name": "ipython",
    "version": 3
   },
   "file_extension": ".py",
   "mimetype": "text/x-python",
   "name": "python",
   "nbconvert_exporter": "python",
   "pygments_lexer": "ipython3",
   "version": "3.6.5"
  }
 },
 "nbformat": 4,
 "nbformat_minor": 1
}
